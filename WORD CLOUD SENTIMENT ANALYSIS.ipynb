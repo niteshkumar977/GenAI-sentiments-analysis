{
 "cells": [
  {
   "cell_type": "code",
   "execution_count": 1,
   "id": "0743b186",
   "metadata": {
    "scrolled": false
   },
   "outputs": [
    {
     "name": "stdout",
     "output_type": "stream",
     "text": [
      "[WinError 2] The system cannot find the file specified: 'C:\\\\Users\\\\Admin\\\\GENAI PROJECTS\\\\Sentiments analysis'\n",
      "C:\\Users\\Admin\\GENAI PROJECTS\\1) Sentiments analysis\n"
     ]
    }
   ],
   "source": [
    "%cd C:\\Users\\Admin\\GENAI PROJECTS\\Sentiments analysis"
   ]
  },
  {
   "cell_type": "markdown",
   "id": "1fc7a02d",
   "metadata": {},
   "source": [
    "# GET THE POSITIVE AND NEGATIVE FROM WORD CLOUD SENTIMENTS"
   ]
  },
  {
   "cell_type": "code",
   "execution_count": 2,
   "id": "5e640206",
   "metadata": {},
   "outputs": [
    {
     "name": "stderr",
     "output_type": "stream",
     "text": [
      "C:\\Users\\Admin\\anaconda3\\Lib\\site-packages\\pandas\\core\\arrays\\masked.py:60: UserWarning: Pandas requires version '1.3.6' or newer of 'bottleneck' (version '1.3.5' currently installed).\n",
      "  from pandas.core import (\n"
     ]
    },
    {
     "name": "stdout",
     "output_type": "stream",
     "text": [
      "Detected encoding: Windows-1252\n"
     ]
    }
   ],
   "source": [
    "import chardet\n",
    "import pandas as pd\n",
    "\n",
    "# Detect encoding\n",
    "with open('word_cloud.csv', 'rb') as f:\n",
    "    result = chardet.detect(f.read())\n",
    "    \n",
    "encoding = result['encoding']\n",
    "print(f\"Detected encoding: {encoding}\")\n",
    "\n",
    "# Read CSV with detected encoding\n",
    "data = pd.read_csv('word_cloud.csv', encoding=encoding)"
   ]
  },
  {
   "cell_type": "code",
   "execution_count": 3,
   "id": "46d8f017",
   "metadata": {},
   "outputs": [],
   "source": [
    "result = data['word_cloud'].str.cat(sep='; ')"
   ]
  },
  {
   "cell_type": "code",
   "execution_count": 4,
   "id": "3617cb15",
   "metadata": {
    "scrolled": true
   },
   "outputs": [
    {
     "name": "stderr",
     "output_type": "stream",
     "text": [
      "C:\\Users\\Admin\\AppData\\Local\\Temp\\ipykernel_4292\\81430068.py:59: FutureWarning: Setting an item of incompatible dtype is deprecated and will raise an error in a future version of pandas. Value '### Summary of Top 3 Positive Reviews\n",
      "\n",
      "1. **User-Friendly Interface and Good Service**\n",
      "   - **Summary**: Many users appreciate the Healthians app for its user-friendly interface and the convenience of home sample collection. They highlighted that the process was smooth, with polite staff, timely collection, and prompt reporting.\n",
      "   - **Percentage of Customers Mentioning**: 40%\n",
      "\n",
      "2. **Accurate and Detailed Reporting**\n",
      "   - **Summary**: Customers praised the quality and accuracy of the reports provided by Healthians. They found the reports to be well-structured and informative, with features that allow users to track and compare their health metrics over time.\n",
      "   - **Percentage of Customers Mentioning**: 30%\n",
      "\n",
      "3. **Affordability and Value for Money**\n",
      "   - **Summary**: Several reviews emphasized that Healthians offers competitive pricing for their tests, making them an economical choice for regular health check-ups.Users appreciated the cost-effectiveness and good value for the quality of service provided.\n",
      "   - **Percentage of Customers Mentioning**: 25%\n",
      "\n",
      "### Overall Trends\n",
      "While there were positive aspects noted regarding the user experience, reporting, and cost-effectiveness, there are also significant concerns and complaints about customer service and consistency in service delivery. Continuous efforts to enhance user satisfaction, address service delays, and improve customer support can help further elevate the overall reputation of Healthians.' has dtype incompatible with float64, please explicitly cast to a compatible dtype first.\n",
      "  data.at[index_to_update, 'Top_3_positive'] = r1\n",
      "C:\\Users\\Admin\\AppData\\Local\\Temp\\ipykernel_4292\\81430068.py:60: FutureWarning: Setting an item of incompatible dtype is deprecated and will raise an error in a future version of pandas. Value 'Based on the negative reviews gathered, here are the top three summarized complaints, along with the percentage of customers mentioning similar issues:\n",
      "\n",
      "### 1. Customer Service and Communication Issues\n",
      "**Complaint:** Numerous customers reported poor customer service, including unresponsive agents, lack of communication regarding bookings, and difficulty reaching support after payment. Many reviews mentioned repeated calls from customer service after initial contact, with no resolution to their concerns. Customers felt ignored or misled by the information provided by agents.\n",
      "\n",
      "**Percentage of Customers Mentioning this Issue:** Approximately 30% \n",
      "\n",
      "---\n",
      "\n",
      "### 2. Inconsistent and Delayed Service Delivery\n",
      "**Complaint:** Several users expressed frustration with the reliability of the service, citing delays in sample collection, cancellations of appointments without notice, and prolonged wait times for test results. Instances where customers had to give blood samples multiple times due to issues with collection or reporting of results were noted as particularly disappointing.\n",
      "\n",
      "**Percentage of Customers Mentioning this Issue:** Approximately 25%\n",
      "\n",
      "---\n",
      "\n",
      "### 3. Pricing and Unexpected Charges\n",
      "**Complaint:** A significant number of reviews indicated dissatisfaction regarding pricing practices, including unexpected increases in costs after booking, misleading offers that were not honored, and inconsistency in billing. Customers felt that they were misled about the final costs compared to initial quotes.\n",
      "\n",
      "**Percentage of Customers Mentioning this Issue:** Approximately 20%\n",
      "\n",
      "---\n",
      "\n",
      "Overall, a majority of the complaints focus on customer service quality, reliability of service delivery, and transparency in pricing. Addressing these core issues could significantly improve customer satisfaction and the organization's reputation.' has dtype incompatible with float64, please explicitly cast to a compatible dtype first.\n",
      "  data.at[index_to_update, 'Top_3_negative'] = r2\n"
     ]
    }
   ],
   "source": [
    "import os\n",
    "import openai\n",
    "##from openai import OpenAI\n",
    "\n",
    "##client = OpenAI(api_key = os.environ['OPEN_API_KEY'])\n",
    "##client = OpenAI()\n",
    "openai.api_key = os.getenv('OPEN_API_KEY')\n",
    "\n",
    "\n",
    "\n",
    "#openai.api_key = 'open_API_key'\n",
    "\n",
    "index_to_update = 0\n",
    "\n",
    "\n",
    "response = openai.ChatCompletion.create(\n",
    "      model=\"gpt-4o-mini\",\n",
    "          messages=[\n",
    "              {\n",
    "               \"role\": \"system\",\n",
    "               \"content\": \"You are a ORM(Online reputation manager) for the organization\"\n",
    "              }\n",
    "              ,\n",
    "              {\n",
    "              \"role\": \"user\",\n",
    "              \"content\": [\n",
    "            {\n",
    "              \"type\": \"text\",\n",
    "              \"text\": \"Top 3 positive reviews summarized along with percentage of customers mentioning the same\"+result\n",
    "            }\n",
    "              ]\n",
    "            }\n",
    "      ]\n",
    "    )\n",
    "r1 = response.choices[0].message.content\n",
    "    \n",
    "response = openai.ChatCompletion.create(\n",
    "      model=\"gpt-4o-mini\",\n",
    "          messages=[\n",
    "              {\n",
    "               \"role\": \"system\",\n",
    "               \"content\": \"You are a ORM(Online reputation manager) for the organization\"\n",
    "              }\n",
    "              ,\n",
    "              {\n",
    "              \"role\": \"user\",\n",
    "              \"content\": [\n",
    "            {\n",
    "              \"type\": \"text\",\n",
    "              \"text\": \"Top 3 negative reviews summarized along with percentage of customers mentioning the same\"+result\n",
    "            }\n",
    "              ]\n",
    "            }\n",
    "      ]\n",
    "    )\n",
    "r2 = response.choices[0].message.content\n",
    "    \n",
    "    \n",
    "data.at[index_to_update, 'Top_3_positive'] = r1\n",
    "data.at[index_to_update, 'Top_3_negative'] = r2\n",
    "    \n",
    "    \n",
    "    "
   ]
  },
  {
   "cell_type": "code",
   "execution_count": 5,
   "id": "c783b3ea",
   "metadata": {},
   "outputs": [
    {
     "data": {
      "text/html": [
       "<div>\n",
       "<style scoped>\n",
       "    .dataframe tbody tr th:only-of-type {\n",
       "        vertical-align: middle;\n",
       "    }\n",
       "\n",
       "    .dataframe tbody tr th {\n",
       "        vertical-align: top;\n",
       "    }\n",
       "\n",
       "    .dataframe thead th {\n",
       "        text-align: right;\n",
       "    }\n",
       "</style>\n",
       "<table border=\"1\" class=\"dataframe\">\n",
       "  <thead>\n",
       "    <tr style=\"text-align: right;\">\n",
       "      <th></th>\n",
       "      <th>s_no</th>\n",
       "      <th>word_cloud</th>\n",
       "      <th>Top_3_positive</th>\n",
       "      <th>Top_3_negative</th>\n",
       "    </tr>\n",
       "  </thead>\n",
       "  <tbody>\n",
       "    <tr>\n",
       "      <th>0</th>\n",
       "      <td>1</td>\n",
       "      <td>Test report format good for reading on compute...</td>\n",
       "      <td>### Summary of Top 3 Positive Reviews\\n\\n1. **...</td>\n",
       "      <td>Based on the negative reviews gathered, here a...</td>\n",
       "    </tr>\n",
       "    <tr>\n",
       "      <th>1</th>\n",
       "      <td>2</td>\n",
       "      <td>After the initial glitch the app worked great,...</td>\n",
       "      <td>NaN</td>\n",
       "      <td>NaN</td>\n",
       "    </tr>\n",
       "  </tbody>\n",
       "</table>\n",
       "</div>"
      ],
      "text/plain": [
       "   s_no                                         word_cloud  \\\n",
       "0     1  Test report format good for reading on compute...   \n",
       "1     2  After the initial glitch the app worked great,...   \n",
       "\n",
       "                                      Top_3_positive  \\\n",
       "0  ### Summary of Top 3 Positive Reviews\\n\\n1. **...   \n",
       "1                                                NaN   \n",
       "\n",
       "                                      Top_3_negative  \n",
       "0  Based on the negative reviews gathered, here a...  \n",
       "1                                                NaN  "
      ]
     },
     "execution_count": 5,
     "metadata": {},
     "output_type": "execute_result"
    }
   ],
   "source": [
    "data"
   ]
  },
  {
   "cell_type": "code",
   "execution_count": 6,
   "id": "da9b0d48",
   "metadata": {},
   "outputs": [],
   "source": [
    "data.to_csv('word_cloud_output.csv')"
   ]
  },
  {
   "cell_type": "code",
   "execution_count": null,
   "id": "abda903a",
   "metadata": {},
   "outputs": [],
   "source": []
  },
  {
   "cell_type": "code",
   "execution_count": null,
   "id": "bbac28f0",
   "metadata": {},
   "outputs": [],
   "source": []
  }
 ],
 "metadata": {
  "kernelspec": {
   "display_name": "Python 3 (ipykernel)",
   "language": "python",
   "name": "python3"
  },
  "language_info": {
   "codemirror_mode": {
    "name": "ipython",
    "version": 3
   },
   "file_extension": ".py",
   "mimetype": "text/x-python",
   "name": "python",
   "nbconvert_exporter": "python",
   "pygments_lexer": "ipython3",
   "version": "3.11.4"
  }
 },
 "nbformat": 4,
 "nbformat_minor": 5
}
