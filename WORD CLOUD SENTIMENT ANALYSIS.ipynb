{
 "cells": [
  {
   "cell_type": "code",
   "execution_count": 3,
   "id": "0743b186",
   "metadata": {
    "scrolled": false
   },
   "outputs": [
    {
     "name": "stdout",
     "output_type": "stream",
     "text": [
      "C:\\Users\\Admin\\GENAI PROJECTS\\Sentiments analysis\n"
     ]
    }
   ],
   "source": [
    "%cd C:\\Users\\Admin\\GENAI PROJECTS\\Sentiments analysis"
   ]
  },
  {
   "cell_type": "markdown",
   "id": "1fc7a02d",
   "metadata": {},
   "source": [
    "# GET THE POSITIVE AND NEGATIVE FROM WORD CLOUD SENTIMENTS"
   ]
  },
  {
   "cell_type": "code",
   "execution_count": 4,
   "id": "5e640206",
   "metadata": {},
   "outputs": [
    {
     "name": "stdout",
     "output_type": "stream",
     "text": [
      "Detected encoding: Windows-1252\n"
     ]
    }
   ],
   "source": [
    "import chardet\n",
    "import pandas as pd\n",
    "\n",
    "# Detect encoding\n",
    "with open('word_cloud.csv', 'rb') as f:\n",
    "    result = chardet.detect(f.read())\n",
    "    \n",
    "encoding = result['encoding']\n",
    "print(f\"Detected encoding: {encoding}\")\n",
    "\n",
    "# Read CSV with detected encoding\n",
    "data = pd.read_csv('word_cloud.csv', encoding=encoding)"
   ]
  },
  {
   "cell_type": "code",
   "execution_count": 5,
   "id": "46d8f017",
   "metadata": {},
   "outputs": [],
   "source": [
    "result = data['word_cloud'].str.cat(sep='; ')"
   ]
  },
  {
   "cell_type": "code",
   "execution_count": 9,
   "id": "3617cb15",
   "metadata": {
    "scrolled": true
   },
   "outputs": [],
   "source": [
    "import os\n",
    "import openai\n",
    "from openai import OpenAI\n",
    "\n",
    "##client = OpenAI(api_key = os.environ['OPEN_API_KEY'])\n",
    "##client = OpenAI()\n",
    "##openai.api_key = os.getenv('OPEN_API_KEY')\n",
    "\n",
    "\n",
    "\n",
    "openai.api_key = 'open_API_key'\n",
    "index_to_update = 0\n",
    "\n",
    "\n",
    "response = openai.chat.completions.create(\n",
    "      model=\"gpt-4o-mini\",\n",
    "          messages=[\n",
    "              {\n",
    "               \"role\": \"system\",\n",
    "               \"content\": \"You are a ORM(Online reputation manager) for the organization\"\n",
    "              }\n",
    "              ,\n",
    "              {\n",
    "              \"role\": \"user\",\n",
    "              \"content\": [\n",
    "            {\n",
    "              \"type\": \"text\",\n",
    "              \"text\": \"Top 3 positive reviews summarized along with percentage of customers mentioning the same\"+result\n",
    "            }\n",
    "              ]\n",
    "            }\n",
    "      ]\n",
    "    )\n",
    "r1 = response.choices[0].message.content\n",
    "    \n",
    "response = openai.chat.completions.create(\n",
    "      model=\"gpt-4o-mini\",\n",
    "          messages=[\n",
    "              {\n",
    "               \"role\": \"system\",\n",
    "               \"content\": \"You are a ORM(Online reputation manager) for the organization\"\n",
    "              }\n",
    "              ,\n",
    "              {\n",
    "              \"role\": \"user\",\n",
    "              \"content\": [\n",
    "            {\n",
    "              \"type\": \"text\",\n",
    "              \"text\": \"Top 3 negative reviews summarized along with percentage of customers mentioning the same\"+result\n",
    "            }\n",
    "              ]\n",
    "            }\n",
    "      ]\n",
    "    )\n",
    "r2 = response.choices[0].message.content\n",
    "    \n",
    "    \n",
    "data.at[index_to_update, 'Top_3_positive'] = r1\n",
    "data.at[index_to_update, 'Top_3_negative'] = r2\n",
    "    \n",
    "    \n",
    "    "
   ]
  },
  {
   "cell_type": "code",
   "execution_count": 10,
   "id": "c783b3ea",
   "metadata": {},
   "outputs": [
    {
     "data": {
      "text/html": [
       "<div>\n",
       "<style scoped>\n",
       "    .dataframe tbody tr th:only-of-type {\n",
       "        vertical-align: middle;\n",
       "    }\n",
       "\n",
       "    .dataframe tbody tr th {\n",
       "        vertical-align: top;\n",
       "    }\n",
       "\n",
       "    .dataframe thead th {\n",
       "        text-align: right;\n",
       "    }\n",
       "</style>\n",
       "<table border=\"1\" class=\"dataframe\">\n",
       "  <thead>\n",
       "    <tr style=\"text-align: right;\">\n",
       "      <th></th>\n",
       "      <th>s_no</th>\n",
       "      <th>word_cloud</th>\n",
       "      <th>Top_3_positive</th>\n",
       "      <th>Top_3_negative</th>\n",
       "    </tr>\n",
       "  </thead>\n",
       "  <tbody>\n",
       "    <tr>\n",
       "      <th>0</th>\n",
       "      <td>1</td>\n",
       "      <td>Test report format good for reading on compute...</td>\n",
       "      <td>### Summary of Top 3 Positive Reviews\\n\\n1. **...</td>\n",
       "      <td>### Summary of Top 3 Negative Reviews\\n\\n1. **...</td>\n",
       "    </tr>\n",
       "    <tr>\n",
       "      <th>1</th>\n",
       "      <td>2</td>\n",
       "      <td>After the initial glitch the app worked great,...</td>\n",
       "      <td>NaN</td>\n",
       "      <td>NaN</td>\n",
       "    </tr>\n",
       "  </tbody>\n",
       "</table>\n",
       "</div>"
      ],
      "text/plain": [
       "   s_no                                         word_cloud  \\\n",
       "0     1  Test report format good for reading on compute...   \n",
       "1     2  After the initial glitch the app worked great,...   \n",
       "\n",
       "                                      Top_3_positive  \\\n",
       "0  ### Summary of Top 3 Positive Reviews\\n\\n1. **...   \n",
       "1                                                NaN   \n",
       "\n",
       "                                      Top_3_negative  \n",
       "0  ### Summary of Top 3 Negative Reviews\\n\\n1. **...  \n",
       "1                                                NaN  "
      ]
     },
     "execution_count": 10,
     "metadata": {},
     "output_type": "execute_result"
    }
   ],
   "source": [
    "data"
   ]
  },
  {
   "cell_type": "code",
   "execution_count": 12,
   "id": "da9b0d48",
   "metadata": {},
   "outputs": [],
   "source": [
    "data.to_csv('word_cloud_output.csv')"
   ]
  },
  {
   "cell_type": "code",
   "execution_count": null,
   "id": "abda903a",
   "metadata": {},
   "outputs": [],
   "source": []
  },
  {
   "cell_type": "code",
   "execution_count": null,
   "id": "bbac28f0",
   "metadata": {},
   "outputs": [],
   "source": []
  }
 ],
 "metadata": {
  "kernelspec": {
   "display_name": "Python 3 (ipykernel)",
   "language": "python",
   "name": "python3"
  },
  "language_info": {
   "codemirror_mode": {
    "name": "ipython",
    "version": 3
   },
   "file_extension": ".py",
   "mimetype": "text/x-python",
   "name": "python",
   "nbconvert_exporter": "python",
   "pygments_lexer": "ipython3",
   "version": "3.11.4"
  }
 },
 "nbformat": 4,
 "nbformat_minor": 5
}
