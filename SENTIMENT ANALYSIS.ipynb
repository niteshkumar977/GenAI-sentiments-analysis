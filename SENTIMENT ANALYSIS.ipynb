{
 "cells": [
  {
   "cell_type": "code",
   "execution_count": 1,
   "id": "0743b186",
   "metadata": {
    "scrolled": false
   },
   "outputs": [
    {
     "name": "stdout",
     "output_type": "stream",
     "text": [
      "[WinError 2] The system cannot find the file specified: 'C:\\\\Users\\\\Admin\\\\GENAI PROJECTS\\\\Sentiments analysis'\n",
      "C:\\Users\\Admin\\GENAI PROJECTS\\1) Sentiments analysis\n"
     ]
    }
   ],
   "source": [
    "%cd C:\\Users\\Admin\\GENAI PROJECTS\\Sentiments analysis"
   ]
  },
  {
   "cell_type": "markdown",
   "id": "1fc7a02d",
   "metadata": {},
   "source": [
    "# GET THE SENTIMENT ON THE STATEMENTS"
   ]
  },
  {
   "cell_type": "code",
   "execution_count": 2,
   "id": "5e640206",
   "metadata": {},
   "outputs": [
    {
     "name": "stderr",
     "output_type": "stream",
     "text": [
      "C:\\Users\\Admin\\anaconda3\\Lib\\site-packages\\pandas\\core\\arrays\\masked.py:60: UserWarning: Pandas requires version '1.3.6' or newer of 'bottleneck' (version '1.3.5' currently installed).\n",
      "  from pandas.core import (\n"
     ]
    },
    {
     "name": "stdout",
     "output_type": "stream",
     "text": [
      "Detected encoding: ascii\n"
     ]
    },
    {
     "data": {
      "text/html": [
       "<div>\n",
       "<style scoped>\n",
       "    .dataframe tbody tr th:only-of-type {\n",
       "        vertical-align: middle;\n",
       "    }\n",
       "\n",
       "    .dataframe tbody tr th {\n",
       "        vertical-align: top;\n",
       "    }\n",
       "\n",
       "    .dataframe thead th {\n",
       "        text-align: right;\n",
       "    }\n",
       "</style>\n",
       "<table border=\"1\" class=\"dataframe\">\n",
       "  <thead>\n",
       "    <tr style=\"text-align: right;\">\n",
       "      <th></th>\n",
       "      <th>Name of reviewer</th>\n",
       "      <th>review</th>\n",
       "      <th>sentiments</th>\n",
       "    </tr>\n",
       "  </thead>\n",
       "  <tbody>\n",
       "    <tr>\n",
       "      <th>0</th>\n",
       "      <td>SONU YADAV</td>\n",
       "      <td>Test report format good for reading on compute...</td>\n",
       "      <td>NaN</td>\n",
       "    </tr>\n",
       "    <tr>\n",
       "      <th>1</th>\n",
       "      <td>Shef Matt</td>\n",
       "      <td>It's a fine app to be honest. I tried it once....</td>\n",
       "      <td>NaN</td>\n",
       "    </tr>\n",
       "    <tr>\n",
       "      <th>2</th>\n",
       "      <td>Kalpesh Parab</td>\n",
       "      <td>I had a terrible experience with the Healtier ...</td>\n",
       "      <td>NaN</td>\n",
       "    </tr>\n",
       "    <tr>\n",
       "      <th>3</th>\n",
       "      <td>Revat Verma</td>\n",
       "      <td>Professional services. Really liked the sample...</td>\n",
       "      <td>NaN</td>\n",
       "    </tr>\n",
       "    <tr>\n",
       "      <th>4</th>\n",
       "      <td>Ashish Sharma</td>\n",
       "      <td>Got my tests done. However, as promised by the...</td>\n",
       "      <td>NaN</td>\n",
       "    </tr>\n",
       "  </tbody>\n",
       "</table>\n",
       "</div>"
      ],
      "text/plain": [
       "  Name of reviewer                                             review  \\\n",
       "0       SONU YADAV  Test report format good for reading on compute...   \n",
       "1        Shef Matt  It's a fine app to be honest. I tried it once....   \n",
       "2    Kalpesh Parab  I had a terrible experience with the Healtier ...   \n",
       "3      Revat Verma  Professional services. Really liked the sample...   \n",
       "4    Ashish Sharma  Got my tests done. However, as promised by the...   \n",
       "\n",
       "   sentiments  \n",
       "0         NaN  \n",
       "1         NaN  \n",
       "2         NaN  \n",
       "3         NaN  \n",
       "4         NaN  "
      ]
     },
     "execution_count": 2,
     "metadata": {},
     "output_type": "execute_result"
    }
   ],
   "source": [
    "import chardet\n",
    "import pandas as pd\n",
    "\n",
    "# Detect encoding\n",
    "with open('reviews_data_cleaned.csv', 'rb') as f:\n",
    "    result = chardet.detect(f.read())\n",
    "    \n",
    "encoding = result['encoding']\n",
    "print(f\"Detected encoding: {encoding}\")\n",
    "\n",
    "# Read CSV with detected encoding\n",
    "data = pd.read_csv('reviews_data_cleaned.csv', encoding=encoding)\n",
    "data"
   ]
  },
  {
   "cell_type": "code",
   "execution_count": 3,
   "id": "3617cb15",
   "metadata": {
    "scrolled": true
   },
   "outputs": [
    {
     "name": "stderr",
     "output_type": "stream",
     "text": [
      "C:\\Users\\Admin\\AppData\\Local\\Temp\\ipykernel_10496\\3557951915.py:55: FutureWarning: Setting an item of incompatible dtype is deprecated and will raise an error in a future version of pandas. Value 'Sentiment: Mixed\n",
      "\n",
      "1. Positive aspects: The reviewer appreciates the readability of the test report format on the computer and finds it beneficial for themselves and their family.\n",
      "  \n",
      "2. Negative aspects: The reviewer expresses frustration about the layout being spread across multiple pages, the high printing costs, and the app's persistent notifications.\n",
      "\n",
      "Recommendation: Consider addressing the layout issue by offering a single-page printout option for test results, and review the app's notification settings to provide a more user-friendly experience.' has dtype incompatible with float64, please explicitly cast to a compatible dtype first.\n",
      "  data.at[index_to_update, 'sentiments'] = response.choices[0].message.content\n"
     ]
    }
   ],
   "source": [
    "import os\n",
    "import openai\n",
    "#from openai import OpenAI\n",
    "\n",
    "##client = OpenAI(api_key = os.environ['OPEN_API_KEY'])\n",
    "##client = OpenAI()\n",
    "openai.api_key = os.getenv('OPEN_API_KEY')\n",
    "\n",
    "\n",
    "index_to_update = 0\n",
    "#for index,review in data['review'].iterrows():\n",
    "for index,review in data.iterrows():\n",
    "    review_var = review.to_json()\n",
    "\n",
    "    response = openai.ChatCompletion.create(\n",
    "      model=\"gpt-4o-mini\",\n",
    "          messages=[\n",
    "              {\n",
    "               \"role\": \"system\",\n",
    "               \"content\": \"You are the ORM(Online reputation manager) for the organization\"\n",
    "              }\n",
    "              ,\n",
    "         \n",
    "              {\n",
    "               \"role\": \"user\",\n",
    "               \"content\": \"I had a terrible experience with the Healthians application. Initially, they accepted my booking for sample collection and even took payment. However, on the day of the sample collection, they informed me that the location was t serviceable. This was a huge disappointment, as it wasted my entire day. It's frustrating that neither the application r their agents knew if the location was serviceable at the time of booking. It seems like they don't care about customer money and time.\"\n",
    "              },\n",
    "              {\n",
    "              \"role\": \"assistant\",\n",
    "              \"content\": \"Sentiment is Negative ; Reason1) The city is non serviceable Reason 2) Careless attitude &  misiniformation\"\n",
    "              },\n",
    "              \n",
    "              {\n",
    "              \"role\": \"user\",\n",
    "              \"content\": [\n",
    "            {\n",
    "              \"type\": \"text\",\n",
    "              \"text\": review_var\n",
    "            }\n",
    "              ]\n",
    "            }\n",
    "      ],\n",
    "      temperature=1,\n",
    "      max_tokens=300,\n",
    "      top_p=1,\n",
    "      frequency_penalty=0,\n",
    "      presence_penalty=0,\n",
    "      response_format={\n",
    "        \"type\": \"text\"\n",
    "      }\n",
    "    )\n",
    "\n",
    "    data.at[index_to_update, 'sentiments'] = response.choices[0].message.content\n",
    "    index_to_update+=1\n",
    "    \n",
    "    "
   ]
  },
  {
   "cell_type": "code",
   "execution_count": 4,
   "id": "c783b3ea",
   "metadata": {},
   "outputs": [
    {
     "data": {
      "text/html": [
       "<div>\n",
       "<style scoped>\n",
       "    .dataframe tbody tr th:only-of-type {\n",
       "        vertical-align: middle;\n",
       "    }\n",
       "\n",
       "    .dataframe tbody tr th {\n",
       "        vertical-align: top;\n",
       "    }\n",
       "\n",
       "    .dataframe thead th {\n",
       "        text-align: right;\n",
       "    }\n",
       "</style>\n",
       "<table border=\"1\" class=\"dataframe\">\n",
       "  <thead>\n",
       "    <tr style=\"text-align: right;\">\n",
       "      <th></th>\n",
       "      <th>Name of reviewer</th>\n",
       "      <th>review</th>\n",
       "      <th>sentiments</th>\n",
       "    </tr>\n",
       "  </thead>\n",
       "  <tbody>\n",
       "    <tr>\n",
       "      <th>0</th>\n",
       "      <td>SONU YADAV</td>\n",
       "      <td>Test report format good for reading on compute...</td>\n",
       "      <td>Sentiment: Mixed\\n\\n1. Positive aspects: The r...</td>\n",
       "    </tr>\n",
       "    <tr>\n",
       "      <th>1</th>\n",
       "      <td>Shef Matt</td>\n",
       "      <td>It's a fine app to be honest. I tried it once....</td>\n",
       "      <td>Sentiment is Negative; Reason 1) Spam calls an...</td>\n",
       "    </tr>\n",
       "    <tr>\n",
       "      <th>2</th>\n",
       "      <td>Kalpesh Parab</td>\n",
       "      <td>I had a terrible experience with the Healtier ...</td>\n",
       "      <td>{\"Name of reviewer\":\"Kalpesh Parab\",\"review\":\"...</td>\n",
       "    </tr>\n",
       "    <tr>\n",
       "      <th>3</th>\n",
       "      <td>Revat Verma</td>\n",
       "      <td>Professional services. Really liked the sample...</td>\n",
       "      <td>Sentiment is Mixed; Reason 1) Positive experie...</td>\n",
       "    </tr>\n",
       "    <tr>\n",
       "      <th>4</th>\n",
       "      <td>Ashish Sharma</td>\n",
       "      <td>Got my tests done. However, as promised by the...</td>\n",
       "      <td>Sentiment is Negative; Reason 1) Misleading pr...</td>\n",
       "    </tr>\n",
       "  </tbody>\n",
       "</table>\n",
       "</div>"
      ],
      "text/plain": [
       "  Name of reviewer                                             review  \\\n",
       "0       SONU YADAV  Test report format good for reading on compute...   \n",
       "1        Shef Matt  It's a fine app to be honest. I tried it once....   \n",
       "2    Kalpesh Parab  I had a terrible experience with the Healtier ...   \n",
       "3      Revat Verma  Professional services. Really liked the sample...   \n",
       "4    Ashish Sharma  Got my tests done. However, as promised by the...   \n",
       "\n",
       "                                          sentiments  \n",
       "0  Sentiment: Mixed\\n\\n1. Positive aspects: The r...  \n",
       "1  Sentiment is Negative; Reason 1) Spam calls an...  \n",
       "2  {\"Name of reviewer\":\"Kalpesh Parab\",\"review\":\"...  \n",
       "3  Sentiment is Mixed; Reason 1) Positive experie...  \n",
       "4  Sentiment is Negative; Reason 1) Misleading pr...  "
      ]
     },
     "execution_count": 4,
     "metadata": {},
     "output_type": "execute_result"
    }
   ],
   "source": [
    "data"
   ]
  },
  {
   "cell_type": "code",
   "execution_count": 5,
   "id": "10a189cb",
   "metadata": {},
   "outputs": [],
   "source": [
    "data.to_csv('sentiment_output.csv')"
   ]
  },
  {
   "cell_type": "code",
   "execution_count": null,
   "id": "e69ae23e",
   "metadata": {},
   "outputs": [],
   "source": []
  },
  {
   "cell_type": "code",
   "execution_count": null,
   "id": "f0de91c6",
   "metadata": {},
   "outputs": [],
   "source": []
  }
 ],
 "metadata": {
  "kernelspec": {
   "display_name": "Python 3 (ipykernel)",
   "language": "python",
   "name": "python3"
  },
  "language_info": {
   "codemirror_mode": {
    "name": "ipython",
    "version": 3
   },
   "file_extension": ".py",
   "mimetype": "text/x-python",
   "name": "python",
   "nbconvert_exporter": "python",
   "pygments_lexer": "ipython3",
   "version": "3.11.4"
  }
 },
 "nbformat": 4,
 "nbformat_minor": 5
}
