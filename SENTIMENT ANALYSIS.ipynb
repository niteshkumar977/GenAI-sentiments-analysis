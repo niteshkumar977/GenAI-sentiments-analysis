{
 "cells": [
  {
   "cell_type": "code",
   "execution_count": 28,
   "id": "0743b186",
   "metadata": {
    "scrolled": true
   },
   "outputs": [
    {
     "name": "stdout",
     "output_type": "stream",
     "text": [
      "C:\\Users\\Admin\\GENAI PROJECTS\\Sentiments analysis\n"
     ]
    }
   ],
   "source": [
    "%cd C:\\Users\\Admin\\GENAI PROJECTS\\Sentiments analysis"
   ]
  },
  {
   "cell_type": "markdown",
   "id": "1fc7a02d",
   "metadata": {},
   "source": [
    "# GET THE SENTIMENT ON THE STATEMENTS"
   ]
  },
  {
   "cell_type": "code",
   "execution_count": 14,
   "id": "5e640206",
   "metadata": {},
   "outputs": [
    {
     "name": "stdout",
     "output_type": "stream",
     "text": [
      "Detected encoding: ascii\n"
     ]
    }
   ],
   "source": [
    "import chardet\n",
    "\n",
    "# Detect encoding\n",
    "with open('reviews_data_cleaned.csv', 'rb') as f:\n",
    "    result = chardet.detect(f.read())\n",
    "    \n",
    "encoding = result['encoding']\n",
    "print(f\"Detected encoding: {encoding}\")\n",
    "\n",
    "# Read CSV with detected encoding\n",
    "data = pd.read_csv('reviews_data_cleaned.csv', encoding=encoding)"
   ]
  },
  {
   "cell_type": "code",
   "execution_count": 24,
   "id": "3617cb15",
   "metadata": {
    "scrolled": true
   },
   "outputs": [
    {
     "name": "stderr",
     "output_type": "stream",
     "text": [
      "C:\\Users\\Admin\\AppData\\Local\\Temp\\ipykernel_6568\\2206914110.py:13: FutureWarning: iteritems is deprecated and will be removed in a future version. Use .items instead.\n",
      "  for index,review in data['review'].iteritems():\n"
     ]
    }
   ],
   "source": [
    "import os\n",
    "import openai\n",
    "from openai import OpenAI\n",
    "\n",
    "##client = OpenAI(api_key = os.environ['OPEN_API_KEY'])\n",
    "##client = OpenAI()\n",
    "##openai.api_key = os.getenv('OPEN_API_KEY')\n",
    "\n",
    "\n",
    "\n",
    "openai.api_key = 'open_API_Key'\n",
    "index_to_update = 0\n",
    "for index,review in data['review'].iteritems():\n",
    "    review_var = review\n",
    "\n",
    "    response = openai.chat.completions.create(\n",
    "      model=\"gpt-4o-mini\",\n",
    "          messages=[\n",
    "              {\n",
    "               \"role\": \"system\",\n",
    "               \"content\": \"You are the ORM(Online reputation manager) for the organization\"\n",
    "              }\n",
    "              ,\n",
    "         \n",
    "              {\n",
    "               \"role\": \"user\",\n",
    "               \"content\": \"I had a terrible experience with the Healthians application. Initially, they accepted my booking for sample collection and even took payment. However, on the day of the sample collection, they informed me that the location was t serviceable. This was a huge disappointment, as it wasted my entire day. It's frustrating that neither the application r their agents knew if the location was serviceable at the time of booking. It seems like they don't care about customer money and time.\"\n",
    "              },\n",
    "              {\n",
    "              \"role\": \"assistant\",\n",
    "              \"content\": \"Sentiment is Negative ; Reason1) The city is non serviceable Reason 2) Careless attitude &  misiniformation\"\n",
    "              },\n",
    "              \n",
    "              {\n",
    "              \"role\": \"user\",\n",
    "              \"content\": [\n",
    "            {\n",
    "              \"type\": \"text\",\n",
    "              \"text\": review_var\n",
    "            }\n",
    "              ]\n",
    "            }\n",
    "      ],\n",
    "      temperature=1,\n",
    "      max_tokens=300,\n",
    "      top_p=1,\n",
    "      frequency_penalty=0,\n",
    "      presence_penalty=0,\n",
    "      response_format={\n",
    "        \"type\": \"text\"\n",
    "      }\n",
    "    )\n",
    "\n",
    "    data.at[index_to_update, 'sentiments'] = response.choices[0].message.content\n",
    "    index_to_update+=1\n",
    "    \n",
    "    "
   ]
  },
  {
   "cell_type": "code",
   "execution_count": 25,
   "id": "c783b3ea",
   "metadata": {},
   "outputs": [
    {
     "data": {
      "text/html": [
       "<div>\n",
       "<style scoped>\n",
       "    .dataframe tbody tr th:only-of-type {\n",
       "        vertical-align: middle;\n",
       "    }\n",
       "\n",
       "    .dataframe tbody tr th {\n",
       "        vertical-align: top;\n",
       "    }\n",
       "\n",
       "    .dataframe thead th {\n",
       "        text-align: right;\n",
       "    }\n",
       "</style>\n",
       "<table border=\"1\" class=\"dataframe\">\n",
       "  <thead>\n",
       "    <tr style=\"text-align: right;\">\n",
       "      <th></th>\n",
       "      <th>Name of reviewer</th>\n",
       "      <th>review</th>\n",
       "      <th>sentiments</th>\n",
       "    </tr>\n",
       "  </thead>\n",
       "  <tbody>\n",
       "    <tr>\n",
       "      <th>0</th>\n",
       "      <td>SONU YADAV</td>\n",
       "      <td>Test report format good for reading on compute...</td>\n",
       "      <td>Sentiment is Mixed; Reason 1) Positive feedbac...</td>\n",
       "    </tr>\n",
       "    <tr>\n",
       "      <th>1</th>\n",
       "      <td>Shef Matt</td>\n",
       "      <td>It's a fine app to be honest. I tried it once....</td>\n",
       "      <td>Sentiment is Mixed; Reason 1) Positive experie...</td>\n",
       "    </tr>\n",
       "    <tr>\n",
       "      <th>2</th>\n",
       "      <td>Kalpesh Parab</td>\n",
       "      <td>I had a terrible experience with the Healtier ...</td>\n",
       "      <td>I'm really sorry to hear about your frustratin...</td>\n",
       "    </tr>\n",
       "    <tr>\n",
       "      <th>3</th>\n",
       "      <td>Revat Verma</td>\n",
       "      <td>Professional services. Really liked the sample...</td>\n",
       "      <td>Sentiment is Positive ; Reason 1) Liked the sa...</td>\n",
       "    </tr>\n",
       "    <tr>\n",
       "      <th>4</th>\n",
       "      <td>Ashish Sharma</td>\n",
       "      <td>Got my tests done. However, as promised by the...</td>\n",
       "      <td>Sentiment is Negative; \\n\\nReason 1) Unfulfill...</td>\n",
       "    </tr>\n",
       "  </tbody>\n",
       "</table>\n",
       "</div>"
      ],
      "text/plain": [
       "  Name of reviewer                                             review  \\\n",
       "0       SONU YADAV  Test report format good for reading on compute...   \n",
       "1        Shef Matt  It's a fine app to be honest. I tried it once....   \n",
       "2    Kalpesh Parab  I had a terrible experience with the Healtier ...   \n",
       "3      Revat Verma  Professional services. Really liked the sample...   \n",
       "4    Ashish Sharma  Got my tests done. However, as promised by the...   \n",
       "\n",
       "                                          sentiments  \n",
       "0  Sentiment is Mixed; Reason 1) Positive feedbac...  \n",
       "1  Sentiment is Mixed; Reason 1) Positive experie...  \n",
       "2  I'm really sorry to hear about your frustratin...  \n",
       "3  Sentiment is Positive ; Reason 1) Liked the sa...  \n",
       "4  Sentiment is Negative; \\n\\nReason 1) Unfulfill...  "
      ]
     },
     "execution_count": 25,
     "metadata": {},
     "output_type": "execute_result"
    }
   ],
   "source": [
    "data"
   ]
  },
  {
   "cell_type": "code",
   "execution_count": 27,
   "id": "10a189cb",
   "metadata": {},
   "outputs": [],
   "source": [
    "data.to_csv('sentiment_output.csv')"
   ]
  },
  {
   "cell_type": "code",
   "execution_count": null,
   "id": "e69ae23e",
   "metadata": {},
   "outputs": [],
   "source": []
  },
  {
   "cell_type": "code",
   "execution_count": null,
   "id": "f0de91c6",
   "metadata": {},
   "outputs": [],
   "source": []
  }
 ],
 "metadata": {
  "kernelspec": {
   "display_name": "Python 3 (ipykernel)",
   "language": "python",
   "name": "python3"
  },
  "language_info": {
   "codemirror_mode": {
    "name": "ipython",
    "version": 3
   },
   "file_extension": ".py",
   "mimetype": "text/x-python",
   "name": "python",
   "nbconvert_exporter": "python",
   "pygments_lexer": "ipython3",
   "version": "3.11.4"
  }
 },
 "nbformat": 4,
 "nbformat_minor": 5
}
